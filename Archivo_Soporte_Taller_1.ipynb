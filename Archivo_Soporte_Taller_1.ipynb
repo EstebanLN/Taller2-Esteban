{
 "cells": [
  {
   "cell_type": "markdown",
   "metadata": {},
   "source": [
    "# Taller 1 - Analítica computacional para la Toma de Decisione\n",
    "## Esteban Ladino "
   ]
  },
  {
   "cell_type": "code",
   "execution_count": 2,
   "metadata": {},
   "outputs": [],
   "source": [
    "import pandas as pd # type: ignore\n",
    "import numpy as np # type: ignore\n",
    "import matplotlib.pyplot as plt # type: ignore\n",
    "import scipy as sp # type: ignore"
   ]
  },
  {
   "cell_type": "markdown",
   "metadata": {},
   "source": [
    "### BikePrices"
   ]
  },
  {
   "cell_type": "code",
   "execution_count": null,
   "metadata": {},
   "outputs": [],
   "source": [
    "df = pd.read_csv(\".\\\\BikePrices.csv\")\n",
    "print(f\"Dimensiones: {df.shape} \\nCantidad de NaN: {df.isnull().sum().sum()}\")\n",
    "print(f\"\\tCantidad de NaN por columna: {list(df.isnull().sum())}\")\n",
    "df.head() "
   ]
  },
  {
   "cell_type": "code",
   "execution_count": null,
   "metadata": {},
   "outputs": [],
   "source": [
    "columnas_interes = [\"Brand\", \"Model\", \"Seller_Type\", \"Owner\"]\n",
    "for columna in columnas_interes:\n",
    "    print(f\"Valores únicos en {columna}: {list(df[columna].unique())}\")\n",
    "# df[\"Owner\"] = df[\"Owner\"].map({\"1st owner\": 1, \"2nd owner\": 2, \"3rd owner\": 3, \"4th owner\": 4})"
   ]
  },
  {
   "cell_type": "code",
   "execution_count": null,
   "metadata": {},
   "outputs": [],
   "source": [
    "Conteo_Brands = df[\"Brand\"].value_counts()\n",
    "plt.bar(Conteo_Brands.index, Conteo_Brands.values)\n",
    "plt.xlabel(\"Marca\")\n",
    "plt.ylabel(\"Cantidad\")\n",
    "plt.xticks(rotation=65) \n",
    "plt.grid(axis=\"y\")\n",
    "plt.show()\n"
   ]
  },
  {
   "cell_type": "code",
   "execution_count": null,
   "metadata": {},
   "outputs": [],
   "source": [
    "#plt.figure(figsize=(10, 8))\n",
    "\n",
    "Conteo_Brands.plot(kind=\"pie\", labels=[\"\"]*20, title=\"\") #, autopct='%1.1f%%') \n",
    "plt.legend(title=\"Marcas\", loc=\"best\", labels=Conteo_Brands.index, fontsize=7.5) \n",
    "plt.show()"
   ]
  },
  {
   "cell_type": "code",
   "execution_count": null,
   "metadata": {},
   "outputs": [],
   "source": [
    "df.groupby(\"Brand\")[\"Owner\"].unique()\n",
    "df.groupby(\"Brand\")[\"Owner\"].value_counts()"
   ]
  },
  {
   "cell_type": "code",
   "execution_count": null,
   "metadata": {},
   "outputs": [],
   "source": [
    "owners = [\"1st owner\", \"2nd owner\", \"3rd owner\", \"4th owner\"]\n",
    "valores = []\n",
    "for o in owners:\n",
    "    df[df[\"Owner\"] == o].groupby(\"Brand\").size()\n",
    "    valores.append(df[df[\"Owner\"] == o].groupby(\"Brand\").size())\n",
    "\n",
    "df_resultados = pd.DataFrame(valores, index=owners)\n",
    "\n",
    "df_resultados.T.plot(kind=\"bar\")\n",
    "plt.title(\"Cantidad de vehículos por marca y propietario\")\n",
    "plt.xlabel(\"Marca\")\n",
    "plt.ylabel(\"Cantidad\")\n",
    "plt.legend(title=\"Propietario\")\n",
    "\n"
   ]
  },
  {
   "cell_type": "code",
   "execution_count": null,
   "metadata": {},
   "outputs": [],
   "source": [
    "df.boxplot(column=[\"Selling_Price\", \"Ex_Showroom_Price\"])\n",
    "plt.show()"
   ]
  },
  {
   "cell_type": "markdown",
   "metadata": {},
   "source": [
    "### Números aleatorios y bondad de ajuste"
   ]
  },
  {
   "cell_type": "code",
   "execution_count": 9,
   "metadata": {},
   "outputs": [],
   "source": [
    "import statsmodels.api as sm # type: ignore\n",
    "import scipy.stats as stats # type: ignore\n",
    "import pandas as pd # type: ignore\n",
    "import numpy as np # type: ignore\n",
    "import matplotlib.pyplot as plt # type: ignore\n",
    "import scipy as sp# type: ignore"
   ]
  },
  {
   "cell_type": "code",
   "execution_count": null,
   "metadata": {},
   "outputs": [],
   "source": [
    "left = 2\n",
    "right = 25\n",
    "mode = 10\n",
    "\n",
    "Numeros = np.random.triangular(left=left, mode=mode, right=right, size=1000)\n",
    "df = pd.DataFrame(Numeros)\n",
    "Descrip = df.describe() \n",
    "print(Descrip)"
   ]
  },
  {
   "cell_type": "code",
   "execution_count": null,
   "metadata": {},
   "outputs": [],
   "source": [
    "plt.hist(x=Numeros)\n",
    "#plt.grid(True)\n",
    "plt.title('Histograma de tiempos de servicio')\n",
    "plt.xlabel('Tiempos de servicio')\n",
    "plt.ylabel('Frecuencia')\n",
    "plt.show()"
   ]
  },
  {
   "cell_type": "code",
   "execution_count": null,
   "metadata": {},
   "outputs": [],
   "source": [
    "Minim = Descrip.loc[\"min\"][0]\n",
    "Maxim = Descrip.loc[\"max\"][0]\n",
    "Modam = df.mode(axis=\"columns\").iloc[0][0]\n",
    "\n",
    "x = np.linspace(Minim, Maxim, 1000) \n",
    "print(Minim, Modam, Maxim)\n"
   ]
  },
  {
   "cell_type": "code",
   "execution_count": null,
   "metadata": {},
   "outputs": [],
   "source": [
    "from scipy.stats import triang # type: ignore\n",
    "Minim = Descrip.loc[\"min\"][0]\n",
    "Maxim = Descrip.loc[\"max\"][0]\n",
    "x = np.arange(left,right,0.001)\n",
    "\n",
    "c = (mode - left) / (right - left)  \n",
    "loc = left                         \n",
    "scale = right - left               \n",
    "\n",
    "plt.plot(x, triang.pdf(x, c, loc=loc, scale=scale), label=\"PDF\")\n",
    "plt.title('Función de densidad ')\n",
    "plt.xlabel('Valores')\n",
    "plt.ylabel('Densidad')\n",
    "plt.show()"
   ]
  },
  {
   "cell_type": "code",
   "execution_count": null,
   "metadata": {},
   "outputs": [],
   "source": [
    "sm.qqplot(Numeros, dist=stats.triang(c, loc=loc, scale=scale), line=\"45\")\n",
    "plt.show()"
   ]
  },
  {
   "cell_type": "code",
   "execution_count": null,
   "metadata": {},
   "outputs": [],
   "source": [
    "\n",
    "plt.hist(x=Numeros, density=True)\n",
    "plt.plot(x, triang.pdf(x, c, loc=loc, scale=scale), label=\"PDF\")\n",
    "plt.title('Tiempos de servicio')\n",
    "plt.xlabel('Tiempos de servicio')\n",
    "plt.ylabel('Frecuencia')\n",
    "plt.show()"
   ]
  },
  {
   "cell_type": "markdown",
   "metadata": {},
   "source": [
    "# Modificaciones para taller 2"
   ]
  },
  {
   "cell_type": "code",
   "execution_count": 1,
   "metadata": {},
   "outputs": [
    {
     "data": {
      "image/png": "[encoded data removed]",
      "text/plain": [
       "<Figure size 640x480 with 1 Axes>"
      ]
     },
     "metadata": {},
     "output_type": "display_data"
    }
   ],
   "source": [
    "import pandas as pd # type: ignore\n",
    "import numpy as np # type: ignore\n",
    "import matplotlib.pyplot as plt # type: ignore\n",
    "import scipy as sp # type: ignore\n",
    "\n",
    "x = np.linspace(0, 10, 100)  \n",
    "y = np.cos(x)\n",
    "\n",
    "plt.plot(x, y)\n",
    "plt.grid(True)\n",
    "plt.show()"
   ]
  }
 ],
 "metadata": {
  "kernelspec": {
   "display_name": "Python 3",
   "language": "python",
   "name": "python3"
  },
  "language_info": {
   "codemirror_mode": {
    "name": "ipython",
    "version": 3
   },
   "file_extension": ".py",
   "mimetype": "text/x-python",
   "name": "python",
   "nbconvert_exporter": "python",
   "pygments_lexer": "ipython3",
   "version": "3.11.9"
  }
 },
 "nbformat": 4,
 "nbformat_minor": 2
}
